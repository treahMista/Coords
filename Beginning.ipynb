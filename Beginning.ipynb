{
 "cells": [
  {
   "cell_type": "markdown",
   "metadata": {
    "slideshow": {
     "slide_type": "slide"
    }
   },
   "source": [
    "#### Основы"
   ]
  },
  {
   "cell_type": "code",
   "execution_count": 1,
   "metadata": {
    "collapsed": true,
    "slideshow": {
     "slide_type": "slide"
    }
   },
   "outputs": [],
   "source": [
    "# Числовой\n",
    "a = 1\n",
    "\n",
    "# Строковый\n",
    "b = \"string\"\n",
    "\n",
    "# Списки\n",
    "c = [1, 'a', b]\n",
    "\n",
    "# Кортежи\n",
    "d = (2, 3)\n",
    "\n",
    "# Словари\n",
    "e = {\"a\": 1, \"b\": 2}\n",
    "\n",
    "# Функции\n",
    "def f(x):\n",
    "    return x*x"
   ]
  },
  {
   "cell_type": "code",
   "execution_count": 2,
   "metadata": {
    "collapsed": true,
    "slideshow": {
     "slide_type": "subslide"
    }
   },
   "outputs": [],
   "source": [
    "str_template = \"\"\"\n",
    "a = {0}\n",
    "b = {1}\n",
    "c = {2}\n",
    "d = {3}\n",
    "e = {4}\n",
    "f = {5}\n",
    "\"\"\""
   ]
  },
  {
   "cell_type": "code",
   "execution_count": 3,
   "metadata": {
    "slideshow": {
     "slide_type": "slide"
    }
   },
   "outputs": [
    {
     "name": "stdout",
     "output_type": "stream",
     "text": [
      "\n",
      "a = 1\n",
      "b = string\n",
      "c = [1, 'a', 'string']\n",
      "d = (2, 3)\n",
      "e = {'a': 1, 'b': 2}\n",
      "f = <function f at 0x00000212713BF620>\n",
      "\n"
     ]
    }
   ],
   "source": [
    "print(str_template.format(a, b, c, d, e, f))"
   ]
  },
  {
   "cell_type": "code",
   "execution_count": 4,
   "metadata": {
    "slideshow": {
     "slide_type": "slide"
    }
   },
   "outputs": [
    {
     "name": "stdout",
     "output_type": "stream",
     "text": [
      "\n",
      "a = <class 'int'>\n",
      "b = <class 'str'>\n",
      "c = <class 'list'>\n",
      "d = <class 'tuple'>\n",
      "e = <class 'dict'>\n",
      "f = <class 'function'>\n",
      "\n"
     ]
    }
   ],
   "source": [
    "# Динамическая типизация, тип хранится вместе со значением, можно получить его во время исполнения\n",
    "print(str_template.format(type(a), type(b), type(c), type(d), type(e), type(f)))"
   ]
  },
  {
   "cell_type": "code",
   "execution_count": 5,
   "metadata": {
    "slideshow": {
     "slide_type": "subslide"
    }
   },
   "outputs": [
    {
     "name": "stdout",
     "output_type": "stream",
     "text": [
      "1\n",
      "string\n"
     ]
    }
   ],
   "source": [
    "a = 1\n",
    "print(a)\n",
    "a = \"string\"\n",
    "print(a)"
   ]
  },
  {
   "cell_type": "code",
   "execution_count": 6,
   "metadata": {
    "slideshow": {
     "slide_type": "fragment"
    }
   },
   "outputs": [
    {
     "name": "stdout",
     "output_type": "stream",
     "text": [
      "a = [1, 2, 3], b=[1, 2, 3]\n",
      "a = [0, 2, 3], b=[0, 2, 3]\n"
     ]
    }
   ],
   "source": [
    "# Имена переменных это ссылки на значения\n",
    "a = [1, 2, 3]\n",
    "b = a\n",
    "print(\"a = {0}, b={1}\".format(a, b))\n",
    "b[0] = 0\n",
    "print(\"a = {0}, b={1}\".format(a, b))"
   ]
  },
  {
   "cell_type": "code",
   "execution_count": 7,
   "metadata": {
    "collapsed": true,
    "slideshow": {
     "slide_type": "slide"
    }
   },
   "outputs": [],
   "source": [
    "# Функцию можно задать и так\n",
    "mult = lambda x, y: x * y"
   ]
  },
  {
   "cell_type": "code",
   "execution_count": 8,
   "metadata": {
    "slideshow": {
     "slide_type": "skip"
    }
   },
   "outputs": [
    {
     "data": {
      "text/plain": [
       "20"
      ]
     },
     "execution_count": 8,
     "metadata": {},
     "output_type": "execute_result"
    }
   ],
   "source": [
    "mult(4, 5)"
   ]
  },
  {
   "cell_type": "code",
   "execution_count": 9,
   "metadata": {
    "slideshow": {
     "slide_type": "slide"
    }
   },
   "outputs": [
    {
     "name": "stdout",
     "output_type": "stream",
     "text": [
      "0\n",
      "0\n",
      "2\n",
      "2\n",
      "4\n",
      "6\n",
      "4\n",
      "8\n",
      "10\n",
      "6\n",
      "12\n",
      "14\n",
      "8\n",
      "16\n",
      "18\n"
     ]
    }
   ],
   "source": [
    "# Стандартные конструкции\n",
    "for i in range(10):\n",
    "    if i % 2 == 0: \n",
    "        print(i)\n",
    "    print(i*2)"
   ]
  },
  {
   "cell_type": "code",
   "execution_count": null,
   "metadata": {
    "collapsed": true
   },
   "outputs": [],
   "source": []
  },
  {
   "cell_type": "code",
   "execution_count": null,
   "metadata": {
    "collapsed": true
   },
   "outputs": [],
   "source": []
  }
 ],
 "metadata": {
  "celltoolbar": "Slideshow",
  "kernelspec": {
   "display_name": "Python 3",
   "language": "python",
   "name": "python3"
  },
  "language_info": {
   "codemirror_mode": {
    "name": "ipython",
    "version": 3
   },
   "file_extension": ".py",
   "mimetype": "text/x-python",
   "name": "python",
   "nbconvert_exporter": "python",
   "pygments_lexer": "ipython3",
   "version": "3.6.3"
  },
  "widgets": {
   "application/vnd.jupyter.widget-state+json": {
    "state": {},
    "version_major": 2,
    "version_minor": 0
   }
  }
 },
 "nbformat": 4,
 "nbformat_minor": 2
}
